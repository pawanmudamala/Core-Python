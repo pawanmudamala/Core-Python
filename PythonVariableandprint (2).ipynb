{
 "cells": [
  {
   "cell_type": "markdown",
   "id": "bf1dbcae",
   "metadata": {},
   "source": [
    "print(\"Nik\")"
   ]
  },
  {
   "cell_type": "markdown",
   "id": "155699db",
   "metadata": {},
   "source": [
    "# gdwdwqu qiqissjqiwws \n"
   ]
  },
  {
   "cell_type": "code",
   "execution_count": 2,
   "id": "3b0663e4",
   "metadata": {},
   "outputs": [
    {
     "name": "stdout",
     "output_type": "stream",
     "text": [
      "Nik\n"
     ]
    }
   ],
   "source": [
    "print(\"Nik\")"
   ]
  },
  {
   "cell_type": "code",
   "execution_count": 4,
   "id": "4b906901",
   "metadata": {},
   "outputs": [
    {
     "name": "stdout",
     "output_type": "stream",
     "text": [
      "Nik\n"
     ]
    }
   ],
   "source": [
    "print(\"Nik\")"
   ]
  },
  {
   "cell_type": "code",
   "execution_count": 5,
   "id": "cdb81395",
   "metadata": {},
   "outputs": [
    {
     "name": "stdout",
     "output_type": "stream",
     "text": [
      "This is Nik\n"
     ]
    }
   ],
   "source": [
    "print('This is Nik')"
   ]
  },
  {
   "cell_type": "code",
   "execution_count": 7,
   "id": "46e8e7f3",
   "metadata": {},
   "outputs": [
    {
     "name": "stdout",
     "output_type": "stream",
     "text": [
      "This \" is \" nik\n"
     ]
    }
   ],
   "source": [
    "print(\"This \\\" is\\\" nik\")"
   ]
  },
  {
   "cell_type": "code",
   "execution_count": 8,
   "id": "a6df4f91",
   "metadata": {},
   "outputs": [
    {
     "name": "stdout",
     "output_type": "stream",
     "text": [
      "This  is  nik\n"
     ]
    }
   ],
   "source": [
    "print(\"This  is\" ,\" nik\")"
   ]
  },
  {
   "cell_type": "code",
   "execution_count": 9,
   "id": "84986641",
   "metadata": {},
   "outputs": [
    {
     "data": {
      "text/plain": [
       "5"
      ]
     },
     "execution_count": 9,
     "metadata": {},
     "output_type": "execute_result"
    }
   ],
   "source": [
    "3+2"
   ]
  },
  {
   "cell_type": "code",
   "execution_count": 10,
   "id": "0ed9d109",
   "metadata": {},
   "outputs": [
    {
     "name": "stdout",
     "output_type": "stream",
     "text": [
      "8\n"
     ]
    }
   ],
   "source": [
    "print(3+5)"
   ]
  },
  {
   "cell_type": "code",
   "execution_count": 14,
   "id": "2a400a30",
   "metadata": {},
   "outputs": [
    {
     "name": "stdout",
     "output_type": "stream",
     "text": [
      "20122\n"
     ]
    }
   ],
   "source": [
    "print(12345+7777)"
   ]
  },
  {
   "cell_type": "code",
   "execution_count": 15,
   "id": "45bc2252",
   "metadata": {},
   "outputs": [
    {
     "name": "stdout",
     "output_type": "stream",
     "text": [
      "sss34*(@\n"
     ]
    }
   ],
   "source": [
    "print(\"sss34*(@\")"
   ]
  },
  {
   "cell_type": "code",
   "execution_count": 17,
   "id": "622ab2bb",
   "metadata": {},
   "outputs": [
    {
     "name": "stdout",
     "output_type": "stream",
     "text": [
      "&&&&\n"
     ]
    }
   ],
   "source": [
    "print('&&&&')"
   ]
  },
  {
   "cell_type": "code",
   "execution_count": 20,
   "id": "820b7da6",
   "metadata": {},
   "outputs": [
    {
     "name": "stdout",
     "output_type": "stream",
     "text": [
      "Nik Jain\n"
     ]
    }
   ],
   "source": [
    "print(\"Nik\"+\" Jain\")"
   ]
  },
  {
   "cell_type": "code",
   "execution_count": 22,
   "id": "034037d9",
   "metadata": {},
   "outputs": [
    {
     "name": "stdout",
     "output_type": "stream",
     "text": [
      "Nik\n"
     ]
    }
   ],
   "source": [
    "print(\"Nik\")"
   ]
  },
  {
   "cell_type": "code",
   "execution_count": 23,
   "id": "eb91521d",
   "metadata": {},
   "outputs": [
    {
     "name": "stdout",
     "output_type": "stream",
     "text": [
      "8\n"
     ]
    }
   ],
   "source": [
    "print(2*4)"
   ]
  },
  {
   "cell_type": "code",
   "execution_count": 24,
   "id": "9712bcbd",
   "metadata": {
    "scrolled": true
   },
   "outputs": [
    {
     "name": "stdout",
     "output_type": "stream",
     "text": [
      "0.3333333333333333\n"
     ]
    }
   ],
   "source": [
    "print(3/9)"
   ]
  },
  {
   "cell_type": "code",
   "execution_count": 25,
   "id": "85371b60",
   "metadata": {},
   "outputs": [
    {
     "name": "stdout",
     "output_type": "stream",
     "text": [
      "Nikanksha\n"
     ]
    }
   ],
   "source": [
    "a=\"Nikanksha\"\n",
    "print(a)"
   ]
  },
  {
   "cell_type": "code",
   "execution_count": 26,
   "id": "d737ea66",
   "metadata": {},
   "outputs": [
    {
     "name": "stdout",
     "output_type": "stream",
     "text": [
      "123\n"
     ]
    }
   ],
   "source": [
    "a=123\n",
    "print(a)"
   ]
  },
  {
   "cell_type": "code",
   "execution_count": 27,
   "id": "772aced8",
   "metadata": {},
   "outputs": [
    {
     "name": "stdout",
     "output_type": "stream",
     "text": [
      "357\n"
     ]
    }
   ],
   "source": [
    "a=123\n",
    "b=234\n",
    "print(a+b)"
   ]
  },
  {
   "cell_type": "code",
   "execution_count": 28,
   "id": "8e939c82",
   "metadata": {},
   "outputs": [
    {
     "name": "stdout",
     "output_type": "stream",
     "text": [
      "45\n"
     ]
    }
   ],
   "source": [
    "_a=45\n",
    "print(_a)"
   ]
  },
  {
   "cell_type": "code",
   "execution_count": 29,
   "id": "af6d5bc1",
   "metadata": {},
   "outputs": [
    {
     "name": "stdout",
     "output_type": "stream",
     "text": [
      "45\n"
     ]
    }
   ],
   "source": [
    "a_=45\n",
    "print(a_)"
   ]
  },
  {
   "cell_type": "code",
   "execution_count": 33,
   "id": "ce5dfe0b",
   "metadata": {},
   "outputs": [
    {
     "name": "stdout",
     "output_type": "stream",
     "text": [
      "Nik\n"
     ]
    }
   ],
   "source": [
    "first_Name=\"Nik\"\n",
    "print(First_Name)"
   ]
  },
  {
   "cell_type": "code",
   "execution_count": 34,
   "id": "1472f85a",
   "metadata": {},
   "outputs": [
    {
     "name": "stdout",
     "output_type": "stream",
     "text": [
      "Nik\n"
     ]
    }
   ],
   "source": [
    "first_Name=\"Nik\"\n",
    "print(First_Name)"
   ]
  },
  {
   "cell_type": "code",
   "execution_count": 35,
   "id": "a3e9cb6a",
   "metadata": {},
   "outputs": [
    {
     "ename": "NameError",
     "evalue": "name 'First_name1' is not defined",
     "output_type": "error",
     "traceback": [
      "\u001b[1;31m---------------------------------------------------------------------------\u001b[0m",
      "\u001b[1;31mNameError\u001b[0m                                 Traceback (most recent call last)",
      "Input \u001b[1;32mIn [35]\u001b[0m, in \u001b[0;36m<cell line: 2>\u001b[1;34m()\u001b[0m\n\u001b[0;32m      1\u001b[0m first_Name1\u001b[38;5;241m=\u001b[39m\u001b[38;5;124m\"\u001b[39m\u001b[38;5;124mnik\u001b[39m\u001b[38;5;124m\"\u001b[39m\n\u001b[1;32m----> 2\u001b[0m \u001b[38;5;28mprint\u001b[39m(\u001b[43mFirst_name1\u001b[49m)\n",
      "\u001b[1;31mNameError\u001b[0m: name 'First_name1' is not defined"
     ]
    }
   ],
   "source": [
    "first_Name1=\"nik\"\n",
    "print(First_name1)"
   ]
  },
  {
   "cell_type": "code",
   "execution_count": 38,
   "id": "787fa347",
   "metadata": {},
   "outputs": [
    {
     "ename": "SyntaxError",
     "evalue": "cannot assign to literal (180105977.py, line 1)",
     "output_type": "error",
     "traceback": [
      "\u001b[1;36m  Input \u001b[1;32mIn [38]\u001b[1;36m\u001b[0m\n\u001b[1;33m    123=123\u001b[0m\n\u001b[1;37m    ^\u001b[0m\n\u001b[1;31mSyntaxError\u001b[0m\u001b[1;31m:\u001b[0m cannot assign to literal\n"
     ]
    }
   ],
   "source": [
    "123=123\n",
    "print(a123)"
   ]
  },
  {
   "cell_type": "code",
   "execution_count": 37,
   "id": "1e1c43d9",
   "metadata": {},
   "outputs": [
    {
     "ename": "SyntaxError",
     "evalue": "invalid syntax (854805185.py, line 1)",
     "output_type": "error",
     "traceback": [
      "\u001b[1;36m  Input \u001b[1;32mIn [37]\u001b[1;36m\u001b[0m\n\u001b[1;33m    123a=123\u001b[0m\n\u001b[1;37m       ^\u001b[0m\n\u001b[1;31mSyntaxError\u001b[0m\u001b[1;31m:\u001b[0m invalid syntax\n"
     ]
    }
   ],
   "source": [
    "123a=123\n",
    "print(123a)"
   ]
  },
  {
   "cell_type": "code",
   "execution_count": 48,
   "id": "7ad07205",
   "metadata": {},
   "outputs": [],
   "source": [
    "a163=123\n"
   ]
  },
  {
   "cell_type": "code",
   "execution_count": 49,
   "id": "d82d70fb",
   "metadata": {},
   "outputs": [
    {
     "name": "stdout",
     "output_type": "stream",
     "text": [
      "123\n"
     ]
    }
   ],
   "source": [
    "print(a163)"
   ]
  },
  {
   "cell_type": "code",
   "execution_count": 50,
   "id": "6c0c73c5",
   "metadata": {},
   "outputs": [
    {
     "data": {
      "text/plain": [
       "False"
      ]
     },
     "execution_count": 50,
     "metadata": {},
     "output_type": "execute_result"
    }
   ],
   "source": [
    "a163==163"
   ]
  },
  {
   "cell_type": "code",
   "execution_count": 52,
   "id": "3ab0f4f8",
   "metadata": {},
   "outputs": [
    {
     "name": "stdout",
     "output_type": "stream",
     "text": [
      "123\n"
     ]
    }
   ],
   "source": [
    "a=123\n",
    "print(a)"
   ]
  },
  {
   "cell_type": "code",
   "execution_count": 55,
   "id": "97284bfb",
   "metadata": {},
   "outputs": [],
   "source": [
    "a153=153"
   ]
  },
  {
   "cell_type": "code",
   "execution_count": 56,
   "id": "5b85b959",
   "metadata": {},
   "outputs": [
    {
     "data": {
      "text/plain": [
       "True"
      ]
     },
     "execution_count": 56,
     "metadata": {},
     "output_type": "execute_result"
    }
   ],
   "source": [
    "a153==153# 153==153"
   ]
  },
  {
   "cell_type": "code",
   "execution_count": 59,
   "id": "f1729285",
   "metadata": {},
   "outputs": [
    {
     "name": "stdout",
     "output_type": "stream",
     "text": [
      "12\n"
     ]
    }
   ],
   "source": [
    "aA=12\n",
    "print(aA)"
   ]
  },
  {
   "cell_type": "code",
   "execution_count": 60,
   "id": "c22b1423",
   "metadata": {},
   "outputs": [
    {
     "ename": "SyntaxError",
     "evalue": "invalid syntax (368421174.py, line 1)",
     "output_type": "error",
     "traceback": [
      "\u001b[1;36m  Input \u001b[1;32mIn [60]\u001b[1;36m\u001b[0m\n\u001b[1;33m    a u =12\u001b[0m\n\u001b[1;37m      ^\u001b[0m\n\u001b[1;31mSyntaxError\u001b[0m\u001b[1;31m:\u001b[0m invalid syntax\n"
     ]
    }
   ],
   "source": [
    "a u =12\n",
    "print(a u)"
   ]
  },
  {
   "cell_type": "code",
   "execution_count": 61,
   "id": "775a1556",
   "metadata": {},
   "outputs": [
    {
     "name": "stdout",
     "output_type": "stream",
     "text": [
      "12\n"
     ]
    }
   ],
   "source": [
    "a_u =12\n",
    "print(a_u)"
   ]
  },
  {
   "cell_type": "code",
   "execution_count": 62,
   "id": "1fc76797",
   "metadata": {},
   "outputs": [
    {
     "name": "stdout",
     "output_type": "stream",
     "text": [
      "12\n"
     ]
    }
   ],
   "source": [
    "aU =12\n",
    "print(aU)"
   ]
  },
  {
   "cell_type": "code",
   "execution_count": 63,
   "id": "a6afc88e",
   "metadata": {},
   "outputs": [
    {
     "name": "stdout",
     "output_type": "stream",
     "text": [
      "12\n"
     ]
    }
   ],
   "source": [
    "au =12\n",
    "print(au)"
   ]
  },
  {
   "cell_type": "code",
   "execution_count": 65,
   "id": "f63274eb",
   "metadata": {},
   "outputs": [
    {
     "name": "stdout",
     "output_type": "stream",
     "text": [
      "Nikanksha Jain\n"
     ]
    }
   ],
   "source": [
    "g=\"Nikanksha Jain\"\n",
    "print(g)"
   ]
  },
  {
   "cell_type": "code",
   "execution_count": 5,
   "id": "c23914bd",
   "metadata": {},
   "outputs": [
    {
     "name": "stdout",
     "output_type": "stream",
     "text": [
      "10\n"
     ]
    }
   ],
   "source": [
    "a=10\n",
    "print(a)"
   ]
  },
  {
   "cell_type": "code",
   "execution_count": 6,
   "id": "be6ecb74",
   "metadata": {},
   "outputs": [
    {
     "name": "stdout",
     "output_type": "stream",
     "text": [
      "<class 'int'>\n"
     ]
    }
   ],
   "source": [
    "\n",
    "print(type(a))"
   ]
  },
  {
   "cell_type": "code",
   "execution_count": 2,
   "id": "2d86fcf3",
   "metadata": {},
   "outputs": [
    {
     "name": "stdout",
     "output_type": "stream",
     "text": [
      "12.2\n"
     ]
    }
   ],
   "source": [
    "a=12.2\n",
    "print(a)"
   ]
  },
  {
   "cell_type": "code",
   "execution_count": 3,
   "id": "9a9249bc",
   "metadata": {},
   "outputs": [
    {
     "name": "stdout",
     "output_type": "stream",
     "text": [
      "2594842103344\n"
     ]
    },
    {
     "data": {
      "text/plain": [
       "2296675733936"
      ]
     },
     "execution_count": 3,
     "metadata": {},
     "output_type": "execute_result"
    }
   ],
   "source": [
    "print(id(a))\n",
    "2296675733936"
   ]
  },
  {
   "cell_type": "code",
   "execution_count": 4,
   "id": "b8019469",
   "metadata": {},
   "outputs": [
    {
     "name": "stdout",
     "output_type": "stream",
     "text": [
      "<class 'float'>\n"
     ]
    }
   ],
   "source": [
    "print(type(a))"
   ]
  },
  {
   "cell_type": "code",
   "execution_count": 11,
   "id": "e006849f",
   "metadata": {},
   "outputs": [
    {
     "name": "stdout",
     "output_type": "stream",
     "text": [
      "# This is Nik_Jain123 #\n",
      "<class 'str'>\n"
     ]
    }
   ],
   "source": [
    "a=\"# This is Nik_Jain123 #\"\n",
    "print(a)\n",
    "print(type(a))"
   ]
  },
  {
   "cell_type": "code",
   "execution_count": 15,
   "id": "1843ff34",
   "metadata": {},
   "outputs": [
    {
     "ename": "NameError",
     "evalue": "name 'a' is not defined",
     "output_type": "error",
     "traceback": [
      "\u001b[1;31m---------------------------------------------------------------------------\u001b[0m",
      "\u001b[1;31mNameError\u001b[0m                                 Traceback (most recent call last)",
      "Input \u001b[1;32mIn [15]\u001b[0m, in \u001b[0;36m<cell line: 1>\u001b[1;34m()\u001b[0m\n\u001b[1;32m----> 1\u001b[0m \u001b[38;5;28;01mdel\u001b[39;00m a\n",
      "\u001b[1;31mNameError\u001b[0m: name 'a' is not defined"
     ]
    }
   ],
   "source": [
    "del a"
   ]
  },
  {
   "cell_type": "code",
   "execution_count": 14,
   "id": "65fce0ed",
   "metadata": {},
   "outputs": [
    {
     "ename": "NameError",
     "evalue": "name 'a' is not defined",
     "output_type": "error",
     "traceback": [
      "\u001b[1;31m---------------------------------------------------------------------------\u001b[0m",
      "\u001b[1;31mNameError\u001b[0m                                 Traceback (most recent call last)",
      "Input \u001b[1;32mIn [14]\u001b[0m, in \u001b[0;36m<cell line: 1>\u001b[1;34m()\u001b[0m\n\u001b[1;32m----> 1\u001b[0m \u001b[38;5;28mprint\u001b[39m(\u001b[43ma\u001b[49m)\n",
      "\u001b[1;31mNameError\u001b[0m: name 'a' is not defined"
     ]
    }
   ],
   "source": [
    "print(a)"
   ]
  },
  {
   "cell_type": "code",
   "execution_count": 26,
   "id": "0a8e72be",
   "metadata": {},
   "outputs": [
    {
     "name": "stdout",
     "output_type": "stream",
     "text": [
      "-3.254e+101\n"
     ]
    }
   ],
   "source": [
    "b= -32.54e100\n",
    "\n",
    "print(b)"
   ]
  },
  {
   "cell_type": "code",
   "execution_count": 29,
   "id": "2b380ce2",
   "metadata": {},
   "outputs": [
    {
     "data": {
      "text/plain": [
       "float"
      ]
     },
     "execution_count": 29,
     "metadata": {},
     "output_type": "execute_result"
    }
   ],
   "source": [
    "type(b)"
   ]
  },
  {
   "cell_type": "code",
   "execution_count": 33,
   "id": "9c397f28",
   "metadata": {},
   "outputs": [],
   "source": [
    "c=3.14j"
   ]
  },
  {
   "cell_type": "code",
   "execution_count": 34,
   "id": "9375c937",
   "metadata": {},
   "outputs": [
    {
     "name": "stdout",
     "output_type": "stream",
     "text": [
      "3.14j\n"
     ]
    }
   ],
   "source": [
    "print(c)"
   ]
  },
  {
   "cell_type": "code",
   "execution_count": 35,
   "id": "11090297",
   "metadata": {},
   "outputs": [
    {
     "name": "stdout",
     "output_type": "stream",
     "text": [
      "<class 'complex'>\n"
     ]
    }
   ],
   "source": [
    "print(type(c))"
   ]
  },
  {
   "cell_type": "code",
   "execution_count": 49,
   "id": "69dbd399",
   "metadata": {},
   "outputs": [],
   "source": [
    "d=\"hello world!\" a[6:11]"
   ]
  },
  {
   "cell_type": "code",
   "execution_count": 44,
   "id": "e6021cc9",
   "metadata": {},
   "outputs": [
    {
     "name": "stdout",
     "output_type": "stream",
     "text": [
      "<class 'str'>\n"
     ]
    }
   ],
   "source": [
    "print(type(d))"
   ]
  },
  {
   "cell_type": "code",
   "execution_count": 45,
   "id": "2cfe03ad",
   "metadata": {},
   "outputs": [
    {
     "name": "stdout",
     "output_type": "stream",
     "text": [
      "h\n"
     ]
    }
   ],
   "source": [
    "print(d[0])"
   ]
  },
  {
   "cell_type": "code",
   "execution_count": 46,
   "id": "875fdd2f",
   "metadata": {},
   "outputs": [
    {
     "name": "stdout",
     "output_type": "stream",
     "text": [
      "12\n"
     ]
    }
   ],
   "source": [
    "print(len(d))"
   ]
  },
  {
   "cell_type": "code",
   "execution_count": 51,
   "id": "ff7f71e3",
   "metadata": {},
   "outputs": [
    {
     "name": "stdout",
     "output_type": "stream",
     "text": [
      "w\n"
     ]
    }
   ],
   "source": [
    "print(d[6])"
   ]
  },
  {
   "cell_type": "code",
   "execution_count": 52,
   "id": "e7858df8",
   "metadata": {},
   "outputs": [
    {
     "name": "stdout",
     "output_type": "stream",
     "text": [
      "ello w\n"
     ]
    }
   ],
   "source": [
    "print(d[1:7])"
   ]
  },
  {
   "cell_type": "code",
   "execution_count": 54,
   "id": "b20d69d2",
   "metadata": {},
   "outputs": [
    {
     "name": "stdout",
     "output_type": "stream",
     "text": [
      "orld\n",
      "orld!\n",
      "world!\n",
      "\n",
      "world!\n",
      "world\n"
     ]
    }
   ],
   "source": [
    "print(d[7:11])\n",
    "print(d[7:12])\n",
    "print(d[6:])\n",
    "print(d[7:5])\n",
    "print(d[6:12])\n",
    "print(d[6:11])"
   ]
  },
  {
   "cell_type": "code",
   "execution_count": null,
   "id": "89d9078b",
   "metadata": {},
   "outputs": [],
   "source": []
  },
  {
   "cell_type": "code",
   "execution_count": 61,
   "id": "06c2e7f4",
   "metadata": {},
   "outputs": [
    {
     "name": "stdout",
     "output_type": "stream",
     "text": [
      "MY Excelr\n"
     ]
    }
   ],
   "source": [
    "f=\"&MY Excelr&\"\n",
    "print(f[1:-1])"
   ]
  },
  {
   "cell_type": "code",
   "execution_count": 63,
   "id": "91f60dab",
   "metadata": {},
   "outputs": [
    {
     "name": "stdout",
     "output_type": "stream",
     "text": [
      " Excelr&\n"
     ]
    }
   ],
   "source": [
    "print(f[3::])"
   ]
  },
  {
   "cell_type": "code",
   "execution_count": 67,
   "id": "246e50d4",
   "metadata": {},
   "outputs": [
    {
     "name": "stdout",
     "output_type": "stream",
     "text": [
      "cel\n"
     ]
    }
   ],
   "source": [
    "print(f[-5:-2])"
   ]
  },
  {
   "cell_type": "code",
   "execution_count": 74,
   "id": "5bd1488c",
   "metadata": {},
   "outputs": [
    {
     "name": "stdout",
     "output_type": "stream",
     "text": [
      "r\n"
     ]
    }
   ],
   "source": [
    "print(f[-2])"
   ]
  },
  {
   "cell_type": "code",
   "execution_count": 86,
   "id": "b31c0ab3",
   "metadata": {},
   "outputs": [
    {
     "name": "stdout",
     "output_type": "stream",
     "text": [
      "&MY Excelr&\n",
      "Exc\n"
     ]
    }
   ],
   "source": [
    "  #012345678910\n",
    "p=\"&MY Excelr&\"\n",
    "  #1234567891011\n",
    "print(p)\n",
    "  #-11-10-9-8-7-6-5-4-3-2-1\n",
    "print(p[4:7])"
   ]
  },
  {
   "cell_type": "code",
   "execution_count": 87,
   "id": "335fc05f",
   "metadata": {},
   "outputs": [
    {
     "name": "stdout",
     "output_type": "stream",
     "text": [
      "&MY E\n"
     ]
    }
   ],
   "source": [
    "print(p[:5])"
   ]
  },
  {
   "cell_type": "code",
   "execution_count": 99,
   "id": "be5c6d70",
   "metadata": {
    "scrolled": true
   },
   "outputs": [
    {
     "data": {
      "text/plain": [
       "False"
      ]
     },
     "execution_count": 99,
     "metadata": {},
     "output_type": "execute_result"
    }
   ],
   "source": [
    "a=123\n",
    "b=1231\n",
    "a==b"
   ]
  },
  {
   "cell_type": "code",
   "execution_count": 97,
   "id": "1afa3a60",
   "metadata": {},
   "outputs": [
    {
     "name": "stdout",
     "output_type": "stream",
     "text": [
      "False\n"
     ]
    }
   ],
   "source": [
    "print(b>a)"
   ]
  },
  {
   "cell_type": "code",
   "execution_count": 92,
   "id": "2eadae6f",
   "metadata": {},
   "outputs": [
    {
     "name": "stdout",
     "output_type": "stream",
     "text": [
      "True\n"
     ]
    }
   ],
   "source": [
    "print(b>=a)"
   ]
  },
  {
   "cell_type": "code",
   "execution_count": 93,
   "id": "e1ab8edc",
   "metadata": {},
   "outputs": [
    {
     "name": "stdout",
     "output_type": "stream",
     "text": [
      "False\n"
     ]
    }
   ],
   "source": [
    "print(b!=a)"
   ]
  },
  {
   "cell_type": "code",
   "execution_count": 101,
   "id": "ccdccbb0",
   "metadata": {},
   "outputs": [
    {
     "name": "stdout",
     "output_type": "stream",
     "text": [
      "9\n"
     ]
    }
   ],
   "source": [
    "a=2\n",
    "b=3\n",
    "print(pow(b,a))"
   ]
  },
  {
   "cell_type": "code",
   "execution_count": 102,
   "id": "8d1f2484",
   "metadata": {},
   "outputs": [
    {
     "name": "stdout",
     "output_type": "stream",
     "text": [
      "2\n"
     ]
    }
   ],
   "source": [
    "print(min(b,a))"
   ]
  },
  {
   "cell_type": "code",
   "execution_count": 103,
   "id": "3161318e",
   "metadata": {},
   "outputs": [
    {
     "name": "stdout",
     "output_type": "stream",
     "text": [
      "3\n"
     ]
    }
   ],
   "source": [
    "print(max(b,a))"
   ]
  },
  {
   "cell_type": "code",
   "execution_count": 107,
   "id": "23cd06a9",
   "metadata": {},
   "outputs": [
    {
     "name": "stdout",
     "output_type": "stream",
     "text": [
      "10.4444\n"
     ]
    }
   ],
   "source": [
    "c=10.4444\n",
    "print(abs(c))"
   ]
  },
  {
   "cell_type": "code",
   "execution_count": 111,
   "id": "13999499",
   "metadata": {},
   "outputs": [
    {
     "name": "stdout",
     "output_type": "stream",
     "text": [
      "-10\n"
     ]
    }
   ],
   "source": [
    "print(round(c))"
   ]
  },
  {
   "cell_type": "code",
   "execution_count": 110,
   "id": "ea8e1cf1",
   "metadata": {},
   "outputs": [
    {
     "name": "stdout",
     "output_type": "stream",
     "text": [
      "10\n"
     ]
    }
   ],
   "source": [
    "c=-10\n",
    "print(abs(c))"
   ]
  },
  {
   "cell_type": "code",
   "execution_count": 118,
   "id": "e5908c28",
   "metadata": {},
   "outputs": [
    {
     "name": "stdout",
     "output_type": "stream",
     "text": [
      "<class 'str'>\n",
      "<class 'int'>\n",
      "<class 'float'>\n",
      "25.5\n"
     ]
    }
   ],
   "source": [
    "a=\"12\"\n",
    "print(type(a))\n",
    "c=int(a)\n",
    "print(type(c))\n",
    "b=13.5\n",
    "print(type(b))\n",
    "print(b+c)"
   ]
  },
  {
   "cell_type": "code",
   "execution_count": null,
   "id": "eee15512",
   "metadata": {},
   "outputs": [],
   "source": [
    "# * +"
   ]
  },
  {
   "cell_type": "code",
   "execution_count": 119,
   "id": "5174664f",
   "metadata": {},
   "outputs": [
    {
     "name": "stdout",
     "output_type": "stream",
     "text": [
      "NikankshaJain\n"
     ]
    }
   ],
   "source": [
    "a=\"Nikanksha\"\n",
    "b=\"Jain\"\n",
    "print(a+b)"
   ]
  },
  {
   "cell_type": "code",
   "execution_count": 124,
   "id": "d5c07b4b",
   "metadata": {},
   "outputs": [
    {
     "name": "stdout",
     "output_type": "stream",
     "text": [
      "Nikanksha Nikanksha Nikanksha Nikanksha \n"
     ]
    }
   ],
   "source": [
    "a=\"Nikanksha \"\n",
    "print(a*4)"
   ]
  },
  {
   "cell_type": "code",
   "execution_count": null,
   "id": "ed8f06a3",
   "metadata": {},
   "outputs": [],
   "source": [
    "\n"
   ]
  },
  {
   "cell_type": "code",
   "execution_count": null,
   "id": "400ef7a7",
   "metadata": {},
   "outputs": [],
   "source": [
    "\n"
   ]
  },
  {
   "cell_type": "code",
   "execution_count": 128,
   "id": "47738f9b",
   "metadata": {},
   "outputs": [],
   "source": [
    "k = complex(2, 3)"
   ]
  },
  {
   "cell_type": "code",
   "execution_count": 129,
   "id": "b0b56708",
   "metadata": {},
   "outputs": [
    {
     "name": "stdout",
     "output_type": "stream",
     "text": [
      "(2+3j)\n"
     ]
    }
   ],
   "source": [
    "print(k)"
   ]
  },
  {
   "cell_type": "code",
   "execution_count": 131,
   "id": "935bee04",
   "metadata": {},
   "outputs": [
    {
     "data": {
      "text/plain": [
       "True"
      ]
     },
     "execution_count": 131,
     "metadata": {},
     "output_type": "execute_result"
    }
   ],
   "source": [
    "4/(3*(2-1))== 4/3*(2-1)"
   ]
  },
  {
   "cell_type": "code",
   "execution_count": 132,
   "id": "7329c05f",
   "metadata": {},
   "outputs": [],
   "source": [
    "x = int(43.55+2/2)"
   ]
  },
  {
   "cell_type": "code",
   "execution_count": 133,
   "id": "591d7ef6",
   "metadata": {},
   "outputs": [
    {
     "name": "stdout",
     "output_type": "stream",
     "text": [
      "44\n"
     ]
    }
   ],
   "source": [
    "print(x)"
   ]
  },
  {
   "cell_type": "code",
   "execution_count": null,
   "id": "6771a2ba",
   "metadata": {},
   "outputs": [],
   "source": []
  }
 ],
 "metadata": {
  "kernelspec": {
   "display_name": "Python 3 (ipykernel)",
   "language": "python",
   "name": "python3"
  },
  "language_info": {
   "codemirror_mode": {
    "name": "ipython",
    "version": 3
   },
   "file_extension": ".py",
   "mimetype": "text/x-python",
   "name": "python",
   "nbconvert_exporter": "python",
   "pygments_lexer": "ipython3",
   "version": "3.9.12"
  }
 },
 "nbformat": 4,
 "nbformat_minor": 5
}
